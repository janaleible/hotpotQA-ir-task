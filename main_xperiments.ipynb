{
 "cells": [
  {
   "cell_type": "code",
   "execution_count": 2,
   "metadata": {},
   "outputs": [],
   "source": [
    "%load_ext autoreload\n",
    "%autoreload 2"
   ]
  },
  {
   "cell_type": "code",
   "execution_count": 3,
   "metadata": {},
   "outputs": [],
   "source": [
    "import main_constants as ct\n",
    "import json\n",
    "from services.index import Index\n",
    "import unidecode\n",
    "from tqdm import tqdm\n",
    "from retrieval.feature_extractors.EntityExtractor import EntityExtractor\n",
    "import torch\n",
    "from services import sql\n",
    "import sqlite3\n",
    "import collections as cl\n",
    "import json\n",
    "import pickle\n",
    "import pandas as pd\n",
    "import spacy\n",
    "import numpy as np"
   ]
  },
  {
   "cell_type": "code",
   "execution_count": null,
   "metadata": {},
   "outputs": [],
   "source": [
    "# check if embeddings are right.\n",
    "from retrieval.neural.modules.encoders import MaxPoolEncoder, MeanPoolEncoder\n",
    "from retrieval.neural.modules.scorers import LinearLogisticRegression\n",
    "encoder = MaxPoolEncoder(50)\n",
    "encoder.embed(torch.tensor(1).view(1,1))"
   ]
  },
  {
   "cell_type": "code",
   "execution_count": null,
   "metadata": {},
   "outputs": [],
   "source": [
    "# print term frquencies to see if they are ordered.\n",
    "with open('./data/index/token2id.tar', 'rb') as file:\n",
    "    t2i = pickle.load(file)\n",
    "with open('./data/index/id2tf.tar', 'rb') as file:\n",
    "    i2tf = pickle.load(file)\n",
    "for t in list(t2i.keys())[0:100]:\n",
    "    print(f'{t}\\t\\t{t2i[t]}\\t{i2tf[t2i[t]]}')"
   ]
  },
  {
   "cell_type": "code",
   "execution_count": null,
   "metadata": {},
   "outputs": [],
   "source": [
    "# time how fast pyndri can query: very slow...\n",
    "index = Index('tfidf')\n",
    "# as opposed to db lookup.\n",
    "def fn():\n",
    "    with sqlite3.connect('./data/term_retrievals/uni_tfidf.dummy/retrievals.sqlite') as db:\n",
    "        (q_id, target_titles, doc_int_ids) = db.cursor() \\\n",
    "            .execute(sql.get_question_by_qid(), ('5a7a52745542996c55b2dd4f',)) \\\n",
    "            .fetchone()\n",
    "        return pickle.loads(doc_int_ids)[:1000]\n",
    "%timeit index.unigram_query('What is anarchism?', 1000)\n",
    "%timeit fn()"
   ]
  },
  {
   "cell_type": "code",
   "execution_count": null,
   "metadata": {},
   "outputs": [],
   "source": [
    "# check run looks good.\n",
    "run = Run()\n",
    "run.add_ranking(\"a\", {\"a1\": 1})\n",
    "run.add_ranking(\"b\", {\"b1\": 1, \"b2\": 2})\n",
    "run.update_ranking(\"d\", \"d1\", 3)\n",
    "run.update_rankings({\"c\": {\"c1\": 3}, \"b\": {\"b3\": 3}})\n",
    "run"
   ]
  },
  {
   "cell_type": "code",
   "execution_count": 24,
   "metadata": {},
   "outputs": [
    {
     "data": {
      "text/plain": [
       "4"
      ]
     },
     "execution_count": 24,
     "metadata": {},
     "output_type": "execute_result"
    }
   ],
   "source": [
    "df = pd.read_pickle('./data/candidates/tfidf.train.dummy.gzip', compression='gzip')\n",
    "len(df)"
   ]
  },
  {
   "cell_type": "code",
   "execution_count": 4,
   "metadata": {},
   "outputs": [
    {
     "name": "stderr",
     "output_type": "stream",
     "text": [
      "INFO:root:[2018-12-10 22:54:14.448095]\t[5189]\tLoading index ./data/index/indri with default query environment.\n",
      "INFO:root:[2018-12-10 22:54:18.897701]\t[5189]\tNot loading stopwords.\n",
      "INFO:root:[2018-12-10 22:54:26.300100]\t[5189]\tLoaded index in 0:00:11.851131.\n"
     ]
    }
   ],
   "source": [
    "ent_model = spacy.load('xx_ent_wiki_sm')\n",
    "index = Index()\n",
    "db = sqlite3.connect(ct.DOCUMENT_DB)\n",
    "cursor = db.cursor()\n",
    "(doc_1,) = cursor.execute(\"SELECT text FROM documents WHERE id = ?\", (index.title2wid[\"Scott Derrickson\"],)).fetchone()\n",
    "(doc_2,) = cursor.execute(\"SELECT text FROM documents WHERE id = ?\", (index.title2wid[\"Ed Wood\"],)).fetchone()\n",
    "question = \"Were Scott Derrickson and Ed Wood of the same nationality?\"\n",
    "cursor.close()\n",
    "db.close()\n",
    "question_parse = ent_model(question)\n",
    "doc_1_parse = ent_model(doc_1)\n",
    "doc_2_parse = ent_model(doc_2)"
   ]
  },
  {
   "cell_type": "code",
   "execution_count": 5,
   "metadata": {},
   "outputs": [
    {
     "data": {
      "text/html": [
       "<div class=\"entities\" style=\"line-height: 2.5\">Were \n",
       "<mark class=\"entity\" style=\"background: #ddd; padding: 0.45em 0.6em; margin: 0 0.25em; line-height: 1; border-radius: 0.35em; box-decoration-break: clone; -webkit-box-decoration-break: clone\">\n",
       "    Scott Derrickson\n",
       "    <span style=\"font-size: 0.8em; font-weight: bold; line-height: 1; border-radius: 0.35em; text-transform: uppercase; vertical-align: middle; margin-left: 0.5rem\">PER</span>\n",
       "</mark>\n",
       " and \n",
       "<mark class=\"entity\" style=\"background: #ddd; padding: 0.45em 0.6em; margin: 0 0.25em; line-height: 1; border-radius: 0.35em; box-decoration-break: clone; -webkit-box-decoration-break: clone\">\n",
       "    Ed Wood\n",
       "    <span style=\"font-size: 0.8em; font-weight: bold; line-height: 1; border-radius: 0.35em; text-transform: uppercase; vertical-align: middle; margin-left: 0.5rem\">PER</span>\n",
       "</mark>\n",
       " of the same nationality?</div>\n",
       "\n",
       "<div class=\"entities\" style=\"line-height: 2.5\">\n",
       "<mark class=\"entity\" style=\"background: #ddd; padding: 0.45em 0.6em; margin: 0 0.25em; line-height: 1; border-radius: 0.35em; box-decoration-break: clone; -webkit-box-decoration-break: clone\">\n",
       "    Scott Derrickson\n",
       "    <span style=\"font-size: 0.8em; font-weight: bold; line-height: 1; border-radius: 0.35em; text-transform: uppercase; vertical-align: middle; margin-left: 0.5rem\">PER</span>\n",
       "</mark>\n",
       " (born July 16, 1966) is an \n",
       "<mark class=\"entity\" style=\"background: #ddd; padding: 0.45em 0.6em; margin: 0 0.25em; line-height: 1; border-radius: 0.35em; box-decoration-break: clone; -webkit-box-decoration-break: clone\">\n",
       "    American\n",
       "    <span style=\"font-size: 0.8em; font-weight: bold; line-height: 1; border-radius: 0.35em; text-transform: uppercase; vertical-align: middle; margin-left: 0.5rem\">MISC</span>\n",
       "</mark>\n",
       " director, screenwriter and producer. 0eos0  \n",
       "<mark class=\"entity\" style=\"background: #ddd; padding: 0.45em 0.6em; margin: 0 0.25em; line-height: 1; border-radius: 0.35em; box-decoration-break: clone; -webkit-box-decoration-break: clone\">\n",
       "    He lives\n",
       "    <span style=\"font-size: 0.8em; font-weight: bold; line-height: 1; border-radius: 0.35em; text-transform: uppercase; vertical-align: middle; margin-left: 0.5rem\">MISC</span>\n",
       "</mark>\n",
       " in \n",
       "<mark class=\"entity\" style=\"background: #ff9561; padding: 0.45em 0.6em; margin: 0 0.25em; line-height: 1; border-radius: 0.35em; box-decoration-break: clone; -webkit-box-decoration-break: clone\">\n",
       "    Los Angeles\n",
       "    <span style=\"font-size: 0.8em; font-weight: bold; line-height: 1; border-radius: 0.35em; text-transform: uppercase; vertical-align: middle; margin-left: 0.5rem\">LOC</span>\n",
       "</mark>\n",
       " , \n",
       "<mark class=\"entity\" style=\"background: #ff9561; padding: 0.45em 0.6em; margin: 0 0.25em; line-height: 1; border-radius: 0.35em; box-decoration-break: clone; -webkit-box-decoration-break: clone\">\n",
       "    California\n",
       "    <span style=\"font-size: 0.8em; font-weight: bold; line-height: 1; border-radius: 0.35em; text-transform: uppercase; vertical-align: middle; margin-left: 0.5rem\">LOC</span>\n",
       "</mark>\n",
       " . 0eos0  He is best known for directing horror film s such as \"\n",
       "<mark class=\"entity\" style=\"background: #ddd; padding: 0.45em 0.6em; margin: 0 0.25em; line-height: 1; border-radius: 0.35em; box-decoration-break: clone; -webkit-box-decoration-break: clone\">\n",
       "    Sinister\n",
       "    <span style=\"font-size: 0.8em; font-weight: bold; line-height: 1; border-radius: 0.35em; text-transform: uppercase; vertical-align: middle; margin-left: 0.5rem\">MISC</span>\n",
       "</mark>\n",
       " \", \"\n",
       "<mark class=\"entity\" style=\"background: #ddd; padding: 0.45em 0.6em; margin: 0 0.25em; line-height: 1; border-radius: 0.35em; box-decoration-break: clone; -webkit-box-decoration-break: clone\">\n",
       "    The Exorcism of Emily Rose\n",
       "    <span style=\"font-size: 0.8em; font-weight: bold; line-height: 1; border-radius: 0.35em; text-transform: uppercase; vertical-align: middle; margin-left: 0.5rem\">MISC</span>\n",
       "</mark>\n",
       " \", and \"\n",
       "<mark class=\"entity\" style=\"background: #ddd; padding: 0.45em 0.6em; margin: 0 0.25em; line-height: 1; border-radius: 0.35em; box-decoration-break: clone; -webkit-box-decoration-break: clone\">\n",
       "    Deliver Us From Evil\n",
       "    <span style=\"font-size: 0.8em; font-weight: bold; line-height: 1; border-radius: 0.35em; text-transform: uppercase; vertical-align: middle; margin-left: 0.5rem\">MISC</span>\n",
       "</mark>\n",
       " \", as well as the 2016 \n",
       "<mark class=\"entity\" style=\"background: #7aecec; padding: 0.45em 0.6em; margin: 0 0.25em; line-height: 1; border-radius: 0.35em; box-decoration-break: clone; -webkit-box-decoration-break: clone\">\n",
       "    Marvel Cinematic Universe\n",
       "    <span style=\"font-size: 0.8em; font-weight: bold; line-height: 1; border-radius: 0.35em; text-transform: uppercase; vertical-align: middle; margin-left: 0.5rem\">ORG</span>\n",
       "</mark>\n",
       "  installment, \"\n",
       "<mark class=\"entity\" style=\"background: #ddd; padding: 0.45em 0.6em; margin: 0 0.25em; line-height: 1; border-radius: 0.35em; box-decoration-break: clone; -webkit-box-decoration-break: clone\">\n",
       "    Doctor Strange\n",
       "    <span style=\"font-size: 0.8em; font-weight: bold; line-height: 1; border-radius: 0.35em; text-transform: uppercase; vertical-align: middle; margin-left: 0.5rem\">MISC</span>\n",
       "</mark>\n",
       " .\" 0eop0 \n",
       "<mark class=\"entity\" style=\"background: #ddd; padding: 0.45em 0.6em; margin: 0 0.25em; line-height: 1; border-radius: 0.35em; box-decoration-break: clone; -webkit-box-decoration-break: clone\">\n",
       "    Derrickson\n",
       "    <span style=\"font-size: 0.8em; font-weight: bold; line-height: 1; border-radius: 0.35em; text-transform: uppercase; vertical-align: middle; margin-left: 0.5rem\">PER</span>\n",
       "</mark>\n",
       " grew up in \n",
       "<mark class=\"entity\" style=\"background: #ff9561; padding: 0.45em 0.6em; margin: 0 0.25em; line-height: 1; border-radius: 0.35em; box-decoration-break: clone; -webkit-box-decoration-break: clone\">\n",
       "    Denver\n",
       "    <span style=\"font-size: 0.8em; font-weight: bold; line-height: 1; border-radius: 0.35em; text-transform: uppercase; vertical-align: middle; margin-left: 0.5rem\">LOC</span>\n",
       "</mark>\n",
       ", \n",
       "<mark class=\"entity\" style=\"background: #ff9561; padding: 0.45em 0.6em; margin: 0 0.25em; line-height: 1; border-radius: 0.35em; box-decoration-break: clone; -webkit-box-decoration-break: clone\">\n",
       "    Colorado\n",
       "    <span style=\"font-size: 0.8em; font-weight: bold; line-height: 1; border-radius: 0.35em; text-transform: uppercase; vertical-align: middle; margin-left: 0.5rem\">LOC</span>\n",
       "</mark>\n",
       " . 0eos0  He graduated from \n",
       "<mark class=\"entity\" style=\"background: #7aecec; padding: 0.45em 0.6em; margin: 0 0.25em; line-height: 1; border-radius: 0.35em; box-decoration-break: clone; -webkit-box-decoration-break: clone\">\n",
       "    Biola University\n",
       "    <span style=\"font-size: 0.8em; font-weight: bold; line-height: 1; border-radius: 0.35em; text-transform: uppercase; vertical-align: middle; margin-left: 0.5rem\">ORG</span>\n",
       "</mark>\n",
       "  with a B.A.  in \n",
       "<mark class=\"entity\" style=\"background: #ff9561; padding: 0.45em 0.6em; margin: 0 0.25em; line-height: 1; border-radius: 0.35em; box-decoration-break: clone; -webkit-box-decoration-break: clone\">\n",
       "    Humanities\n",
       "    <span style=\"font-size: 0.8em; font-weight: bold; line-height: 1; border-radius: 0.35em; text-transform: uppercase; vertical-align: middle; margin-left: 0.5rem\">LOC</span>\n",
       "</mark>\n",
       " , with an emphasis on literature and philosophy, and a B.A. in communications , with an emphasis on film, and a minor in theological studies . 0eos0 \n",
       "<mark class=\"entity\" style=\"background: #ddd; padding: 0.45em 0.6em; margin: 0 0.25em; line-height: 1; border-radius: 0.35em; box-decoration-break: clone; -webkit-box-decoration-break: clone\">\n",
       "     He\n",
       "    <span style=\"font-size: 0.8em; font-weight: bold; line-height: 1; border-radius: 0.35em; text-transform: uppercase; vertical-align: middle; margin-left: 0.5rem\">PER</span>\n",
       "</mark>\n",
       " earned his \n",
       "<mark class=\"entity\" style=\"background: #ddd; padding: 0.45em 0.6em; margin: 0 0.25em; line-height: 1; border-radius: 0.35em; box-decoration-break: clone; -webkit-box-decoration-break: clone\">\n",
       "    M.A.  \n",
       "    <span style=\"font-size: 0.8em; font-weight: bold; line-height: 1; border-radius: 0.35em; text-transform: uppercase; vertical-align: middle; margin-left: 0.5rem\">PER</span>\n",
       "</mark>\n",
       "in film production from \n",
       "<mark class=\"entity\" style=\"background: #7aecec; padding: 0.45em 0.6em; margin: 0 0.25em; line-height: 1; border-radius: 0.35em; box-decoration-break: clone; -webkit-box-decoration-break: clone\">\n",
       "    USC School of Cinematic Arts\n",
       "    <span style=\"font-size: 0.8em; font-weight: bold; line-height: 1; border-radius: 0.35em; text-transform: uppercase; vertical-align: middle; margin-left: 0.5rem\">ORG</span>\n",
       "</mark>\n",
       " .</div>\n",
       "\n",
       "<div class=\"entities\" style=\"line-height: 2.5\">\n",
       "<mark class=\"entity\" style=\"background: #ddd; padding: 0.45em 0.6em; margin: 0 0.25em; line-height: 1; border-radius: 0.35em; box-decoration-break: clone; -webkit-box-decoration-break: clone\">\n",
       "    Edward Davis Wood Jr.\n",
       "    <span style=\"font-size: 0.8em; font-weight: bold; line-height: 1; border-radius: 0.35em; text-transform: uppercase; vertical-align: middle; margin-left: 0.5rem\">PER</span>\n",
       "</mark>\n",
       " (October 10, 1924 - December 10, 1978) was an \n",
       "<mark class=\"entity\" style=\"background: #ddd; padding: 0.45em 0.6em; margin: 0 0.25em; line-height: 1; border-radius: 0.35em; box-decoration-break: clone; -webkit-box-decoration-break: clone\">\n",
       "    American\n",
       "    <span style=\"font-size: 0.8em; font-weight: bold; line-height: 1; border-radius: 0.35em; text-transform: uppercase; vertical-align: middle; margin-left: 0.5rem\">MISC</span>\n",
       "</mark>\n",
       " filmmaker, actor, writer, producer, and director. 0eop0 \n",
       "<mark class=\"entity\" style=\"background: #ddd; padding: 0.45em 0.6em; margin: 0 0.25em; line-height: 1; border-radius: 0.35em; box-decoration-break: clone; -webkit-box-decoration-break: clone\">\n",
       "    In the 1950s\n",
       "    <span style=\"font-size: 0.8em; font-weight: bold; line-height: 1; border-radius: 0.35em; text-transform: uppercase; vertical-align: middle; margin-left: 0.5rem\">MISC</span>\n",
       "</mark>\n",
       ", \n",
       "<mark class=\"entity\" style=\"background: #ddd; padding: 0.45em 0.6em; margin: 0 0.25em; line-height: 1; border-radius: 0.35em; box-decoration-break: clone; -webkit-box-decoration-break: clone\">\n",
       "    Wood\n",
       "    <span style=\"font-size: 0.8em; font-weight: bold; line-height: 1; border-radius: 0.35em; text-transform: uppercase; vertical-align: middle; margin-left: 0.5rem\">PER</span>\n",
       "</mark>\n",
       " made a number of low-budget  films in the science fiction, comedy, and horror genre s, intercutting stock footage . 0eos0  In the 1960s and 1970s, he made sexploitation movies  and wrote over 80 pulp  crime, horror and sex novels. 0eos0  In 1975, he was awarded a \n",
       "<mark class=\"entity\" style=\"background: #ddd; padding: 0.45em 0.6em; margin: 0 0.25em; line-height: 1; border-radius: 0.35em; box-decoration-break: clone; -webkit-box-decoration-break: clone\">\n",
       "    Golden Turkey Award\n",
       "    <span style=\"font-size: 0.8em; font-weight: bold; line-height: 1; border-radius: 0.35em; text-transform: uppercase; vertical-align: middle; margin-left: 0.5rem\">MISC</span>\n",
       "</mark>\n",
       "  as \n",
       "<mark class=\"entity\" style=\"background: #ddd; padding: 0.45em 0.6em; margin: 0 0.25em; line-height: 1; border-radius: 0.35em; box-decoration-break: clone; -webkit-box-decoration-break: clone\">\n",
       "    Worst Director of All Time\n",
       "    <span style=\"font-size: 0.8em; font-weight: bold; line-height: 1; border-radius: 0.35em; text-transform: uppercase; vertical-align: middle; margin-left: 0.5rem\">MISC</span>\n",
       "</mark>\n",
       ", renewing public interest in his work. 0eos0  \n",
       "<mark class=\"entity\" style=\"background: #ddd; padding: 0.45em 0.6em; margin: 0 0.25em; line-height: 1; border-radius: 0.35em; box-decoration-break: clone; -webkit-box-decoration-break: clone\">\n",
       "    Wood\n",
       "    <span style=\"font-size: 0.8em; font-weight: bold; line-height: 1; border-radius: 0.35em; text-transform: uppercase; vertical-align: middle; margin-left: 0.5rem\">PER</span>\n",
       "</mark>\n",
       "'s career and camp  approach has earned him and his films a cult following .</div>"
      ],
      "text/plain": [
       "<IPython.core.display.HTML object>"
      ]
     },
     "metadata": {},
     "output_type": "display_data"
    }
   ],
   "source": [
    "spacy.displacy.render([question_parse, doc_1_parse, doc_2_parse], style='ent', jupyter=True)"
   ]
  },
  {
   "cell_type": "code",
   "execution_count": 6,
   "metadata": {},
   "outputs": [
    {
     "data": {
      "text/plain": [
       "[('Scott Derrickson', 5, 21, 'PER'), ('Ed Wood', 26, 33, 'PER')]"
      ]
     },
     "execution_count": 6,
     "metadata": {},
     "output_type": "execute_result"
    }
   ],
   "source": [
    "ents_question = [(e.text, e.start_char, e.end_char, e.label_) for e in question_parse.ents]\n",
    "ents_question"
   ]
  },
  {
   "cell_type": "code",
   "execution_count": 7,
   "metadata": {},
   "outputs": [
    {
     "data": {
      "text/plain": [
       "[('Scott Derrickson', 0, 16, 'PER'),\n",
       " ('American', 44, 52, 'MISC'),\n",
       " ('He lives', 97, 105, 'MISC'),\n",
       " ('Los Angeles', 109, 120, 'LOC'),\n",
       " ('California', 123, 133, 'LOC'),\n",
       " ('Sinister', 197, 205, 'MISC'),\n",
       " ('The Exorcism of Emily Rose', 210, 236, 'MISC'),\n",
       " ('Deliver Us From Evil', 245, 265, 'MISC'),\n",
       " ('Marvel Cinematic Universe', 289, 314, 'ORG'),\n",
       " ('Doctor Strange', 330, 344, 'MISC'),\n",
       " ('Derrickson', 354, 364, 'PER'),\n",
       " ('Denver', 376, 382, 'LOC'),\n",
       " ('Colorado', 384, 392, 'LOC'),\n",
       " ('Biola University', 420, 436, 'ORG'),\n",
       " ('Humanities', 454, 464, 'LOC'),\n",
       " (' He', 614, 617, 'PER'),\n",
       " ('M.A.  ', 629, 635, 'PER'),\n",
       " ('USC School of Cinematic Arts', 659, 687, 'ORG')]"
      ]
     },
     "execution_count": 7,
     "metadata": {},
     "output_type": "execute_result"
    }
   ],
   "source": [
    "ents_doc_1 = [(e.text, e.start_char, e.end_char, e.label_) for e in doc_1_parse.ents]\n",
    "ents_doc_1"
   ]
  },
  {
   "cell_type": "code",
   "execution_count": 40,
   "metadata": {},
   "outputs": [
    {
     "data": {
      "text/plain": [
       "[('Edward Davis Wood Jr.', 0, 21, 'PER'),\n",
       " ('American', 68, 76, 'MISC'),\n",
       " ('In the 1950s', 133, 145, 'MISC'),\n",
       " ('Wood', 147, 151, 'PER'),\n",
       " ('Golden Turkey Award', 416, 435, 'MISC'),\n",
       " ('Worst Director of All Time', 440, 466, 'MISC'),\n",
       " ('Wood', 513, 517, 'PER')]"
      ]
     },
     "execution_count": 40,
     "metadata": {},
     "output_type": "execute_result"
    }
   ],
   "source": [
    "ents_doc_2 = [(e.text, e.start_char, e.end_char, e.label_) for e in doc_2_parse.ents]\n",
    "ents_doc_2"
   ]
  },
  {
   "cell_type": "code",
   "execution_count": 8,
   "metadata": {},
   "outputs": [
    {
     "name": "stdout",
     "output_type": "stream",
     "text": [
      "[0, 'Scott', 'B', 'PER']\n",
      "[1, 'Derrickson', 'I', 'PER']\n",
      "[11, 'American', 'B', 'MISC']\n",
      "[20, 'He', 'B', 'MISC']\n",
      "[21, 'lives', 'I', 'MISC']\n",
      "[23, 'Los', 'B', 'LOC']\n",
      "[24, 'Angeles', 'I', 'LOC']\n",
      "[26, 'California', 'B', 'LOC']\n",
      "[42, 'Sinister', 'B', 'MISC']\n",
      "[46, 'The', 'B', 'MISC']\n",
      "[47, 'Exorcism', 'I', 'MISC']\n",
      "[48, 'of', 'I', 'MISC']\n",
      "[49, 'Emily', 'I', 'MISC']\n",
      "[50, 'Rose', 'I', 'MISC']\n",
      "[55, 'Deliver', 'B', 'MISC']\n",
      "[56, 'Us', 'I', 'MISC']\n",
      "[57, 'From', 'I', 'MISC']\n",
      "[58, 'Evil', 'I', 'MISC']\n",
      "[66, 'Marvel', 'B', 'ORG']\n",
      "[67, 'Cinematic', 'I', 'ORG']\n",
      "[68, 'Universe', 'I', 'ORG']\n",
      "[73, 'Doctor', 'B', 'MISC']\n",
      "[74, 'Strange', 'I', 'MISC']\n",
      "[78, 'Derrickson', 'B', 'PER']\n",
      "[82, 'Denver', 'B', 'LOC']\n",
      "[84, 'Colorado', 'B', 'LOC']\n",
      "[91, 'Biola', 'B', 'ORG']\n",
      "[92, 'University', 'I', 'ORG']\n",
      "[99, 'Humanities', 'B', 'LOC']\n",
      "[129, ' ', 'B', 'PER']\n",
      "[130, 'He', 'I', 'PER']\n",
      "[133, 'M.A.', 'B', 'PER']\n",
      "[134, ' ', 'I', 'PER']\n",
      "[139, 'USC', 'B', 'ORG']\n",
      "[140, 'School', 'I', 'ORG']\n",
      "[141, 'of', 'I', 'ORG']\n",
      "[142, 'Cinematic', 'I', 'ORG']\n",
      "[143, 'Arts', 'I', 'ORG']\n"
     ]
    }
   ],
   "source": [
    "for token in doc_1_parse:\n",
    "    if token.ent_type_:\n",
    "        print([token.i, token.text, token.ent_iob_, token.ent_type_])"
   ]
  },
  {
   "cell_type": "code",
   "execution_count": 9,
   "metadata": {},
   "outputs": [
    {
     "data": {
      "text/plain": [
       "(defaultdict(list, {'PER': ['Scott Derrickson', 'Ed Wood']}),\n",
       " defaultdict(list,\n",
       "             {'PER': ['Scott Derrickson', 'Derrickson', ' He', 'M.A.  '],\n",
       "              'MISC': ['American',\n",
       "               'He lives',\n",
       "               'Sinister',\n",
       "               'The Exorcism of Emily Rose',\n",
       "               'Deliver Us From Evil',\n",
       "               'Doctor Strange'],\n",
       "              'LOC': ['Los Angeles',\n",
       "               'California',\n",
       "               'Denver',\n",
       "               'Colorado',\n",
       "               'Humanities'],\n",
       "              'ORG': ['Marvel Cinematic Universe',\n",
       "               'Biola University',\n",
       "               'USC School of Cinematic Arts']}))"
      ]
     },
     "execution_count": 9,
     "metadata": {},
     "output_type": "execute_result"
    }
   ],
   "source": [
    "question_ents_dict = cl.defaultdict(list)\n",
    "for (entity, _, _, _type) in ents_question:\n",
    "    question_ents_dict[_type].append(entity)\n",
    "doc_ents_dict = cl.defaultdict(list)\n",
    "for (entity, _, _, _type) in ents_doc_1:\n",
    "    doc_ents_dict[_type].append(entity)\n",
    "question_ents_dict, doc_ents_dict"
   ]
  },
  {
   "cell_type": "code",
   "execution_count": 38,
   "metadata": {},
   "outputs": [
    {
     "name": "stdout",
     "output_type": "stream",
     "text": [
      "PER 3 5\n"
     ]
    },
    {
     "data": {
      "text/plain": [
       "{'PER': 0.6}"
      ]
     },
     "execution_count": 38,
     "metadata": {},
     "output_type": "execute_result"
    }
   ],
   "source": [
    "entity_type_matching_word_count = cl.defaultdict(int)\n",
    "doc_entity_type_total_word_count = 0\n",
    "for _type, question_entities in question_ents_dict.items():\n",
    "    for doc_entity in doc_ents_dict[_type]:\n",
    "        for doc_entity_word in doc_entity.strip().split():\n",
    "            doc_entity_type_total_word_count += 1\n",
    "            doc_entity_word = doc_entity_word.lower()\n",
    "            for question_entity in question_entities:\n",
    "                for question_entity_word in question_entity.strip().split():\n",
    "                    question_entity_word = question_entity_word.lower()\n",
    "                    entity_type_matching_word_count[_type] += int(question_entity_word == doc_entity_word)\n",
    "\n",
    "    print(_type, entity_type_matching_word_count[_type], doc_entity_type_total_word_count)\n",
    "    entity_type_matching_word_count[_type] = entity_type_matching_word_count[_type] / doc_entity_type_total_word_count\n",
    "dict(entity_type_matching_word_count)"
   ]
  },
  {
   "cell_type": "code",
   "execution_count": 45,
   "metadata": {},
   "outputs": [
    {
     "data": {
      "text/plain": [
       "(defaultdict(list, {'PER': ['Scott Derrickson', 'Ed Wood']}),\n",
       " defaultdict(list,\n",
       "             {'PER': ['Edward Davis Wood Jr.', 'Wood', 'Wood'],\n",
       "              'MISC': ['American',\n",
       "               'In the 1950s',\n",
       "               'Golden Turkey Award',\n",
       "               'Worst Director of All Time']}))"
      ]
     },
     "execution_count": 45,
     "metadata": {},
     "output_type": "execute_result"
    }
   ],
   "source": [
    "question_ents_dict = cl.defaultdict(list)\n",
    "for (entity, _, _, _type) in ents_question:\n",
    "    question_ents_dict[_type].append(entity)\n",
    "doc_ents_dict = cl.defaultdict(list)\n",
    "for (entity, _, _, _type) in ents_doc_2:\n",
    "    doc_ents_dict[_type].append(entity)\n",
    "question_ents_dict, doc_ents_dict"
   ]
  },
  {
   "cell_type": "code",
   "execution_count": 46,
   "metadata": {},
   "outputs": [
    {
     "name": "stdout",
     "output_type": "stream",
     "text": [
      "PER 3 6\n"
     ]
    },
    {
     "data": {
      "text/plain": [
       "{'PER': 0.5}"
      ]
     },
     "execution_count": 46,
     "metadata": {},
     "output_type": "execute_result"
    }
   ],
   "source": [
    "entity_type_matching_word_count = cl.defaultdict(int)\n",
    "doc_entity_type_total_word_count = 0\n",
    "for _type, question_entities in question_ents_dict.items():\n",
    "    for doc_entity in doc_ents_dict[_type]:\n",
    "        for doc_entity_word in doc_entity.strip().split():\n",
    "            doc_entity_type_total_word_count += 1\n",
    "            doc_entity_word = doc_entity_word.lower()\n",
    "            for question_entity in question_entities:\n",
    "                for question_entity_word in question_entity.strip().split():\n",
    "                    question_entity_word = question_entity_word.lower()\n",
    "                    entity_type_matching_word_count[_type] += int(question_entity_word == doc_entity_word)\n",
    "\n",
    "    print(_type, entity_type_matching_word_count[_type], doc_entity_type_total_word_count)\n",
    "    entity_type_matching_word_count[_type] = entity_type_matching_word_count[_type] / doc_entity_type_total_word_count\n",
    "dict(entity_type_matching_word_count)"
   ]
  },
  {
   "cell_type": "code",
   "execution_count": 47,
   "metadata": {},
   "outputs": [
    {
     "data": {
      "text/plain": [
       "(defaultdict(list, {'PER': ['Scott Derrickson', 'Ed Wood']}),\n",
       " defaultdict(list,\n",
       "             {'PER': ['Edward Davis Wood Jr.', 'Wood', 'Wood'],\n",
       "              'MISC': ['American',\n",
       "               'In the 1950s',\n",
       "               'Golden Turkey Award',\n",
       "               'Worst Director of All Time']}))"
      ]
     },
     "execution_count": 47,
     "metadata": {},
     "output_type": "execute_result"
    }
   ],
   "source": [
    "e2i = {\n",
    "    \"PER\": 0,\n",
    "    \"LOC\": 1,\n",
    "    \"ORG\": 2,\n",
    "    \"MISC\": 3\n",
    "}\n",
    "qu_ents = cl.defaultdict(list)\n",
    "for (entity, _, _, _type) in ents_question:\n",
    "    qu_ents[_type].append(entity)\n",
    "doc_ents = cl.defaultdict(list)\n",
    "for (entity, _, _, _type) in ents_doc_2:\n",
    "    doc_ents[_type].append(entity)\n",
    "question_ents_dict, doc_ents_dict"
   ]
  },
  {
   "cell_type": "code",
   "execution_count": 57,
   "metadata": {},
   "outputs": [
    {
     "name": "stdout",
     "output_type": "stream",
     "text": [
      "[3. 0. 0. 0.] [6. 0. 0. 0.]\n"
     ]
    },
    {
     "data": {
      "text/plain": [
       "array([0.5, 0. , 0. , 0. ])"
      ]
     },
     "execution_count": 57,
     "metadata": {},
     "output_type": "execute_result"
    }
   ],
   "source": []
  },
  {
   "cell_type": "code",
   "execution_count": 3,
   "metadata": {},
   "outputs": [],
   "source": [
    "df = pd.read_pickle(ct.DOCUMENT_DB, compression='gzip')"
   ]
  },
  {
   "cell_type": "code",
   "execution_count": 6,
   "metadata": {},
   "outputs": [
    {
     "data": {
      "text/plain": [
       "5486212"
      ]
     },
     "execution_count": 6,
     "metadata": {},
     "output_type": "execute_result"
    }
   ],
   "source": [
    "len(df)"
   ]
  },
  {
   "cell_type": "code",
   "execution_count": 3,
   "metadata": {},
   "outputs": [],
   "source": [
    "index = Index('tfidf')"
   ]
  },
  {
   "cell_type": "code",
   "execution_count": 4,
   "metadata": {},
   "outputs": [
    {
     "name": "stdout",
     "output_type": "stream",
     "text": [
      "1.07 s ± 38.6 ms per loop (mean ± std. dev. of 7 runs, 1 loop each)\n"
     ]
    }
   ],
   "source": [
    "%timeit index.unigram_query('What is Anarchism?', request=1000)"
   ]
  },
  {
   "cell_type": "code",
   "execution_count": 3,
   "metadata": {},
   "outputs": [],
   "source": [
    "a = [1,2,3]"
   ]
  },
  {
   "cell_type": "code",
   "execution_count": 8,
   "metadata": {},
   "outputs": [
    {
     "data": {
      "text/plain": [
       "[1, 2]"
      ]
     },
     "execution_count": 8,
     "metadata": {},
     "output_type": "execute_result"
    }
   ],
   "source": [
    "a[0:2]"
   ]
  },
  {
   "cell_type": "code",
   "execution_count": 9,
   "metadata": {},
   "outputs": [],
   "source": [
    "import collections as cl"
   ]
  },
  {
   "cell_type": "code",
   "execution_count": 11,
   "metadata": {},
   "outputs": [],
   "source": [
    "a = cl.Counter((1,1,1,1,2,2,3,5,6,8))"
   ]
  },
  {
   "cell_type": "code",
   "execution_count": 13,
   "metadata": {},
   "outputs": [
    {
     "data": {
      "text/plain": [
       "True"
      ]
     },
     "execution_count": 13,
     "metadata": {},
     "output_type": "execute_result"
    }
   ],
   "source": [
    "1 in a"
   ]
  },
  {
   "cell_type": "code",
   "execution_count": 14,
   "metadata": {},
   "outputs": [
    {
     "data": {
      "text/plain": [
       "False"
      ]
     },
     "execution_count": 14,
     "metadata": {},
     "output_type": "execute_result"
    }
   ],
   "source": [
    "9 in a"
   ]
  },
  {
   "cell_type": "code",
   "execution_count": 15,
   "metadata": {},
   "outputs": [
    {
     "name": "stdout",
     "output_type": "stream",
     "text": [
      "1\n",
      "2\n",
      "3\n",
      "5\n",
      "6\n",
      "8\n"
     ]
    }
   ],
   "source": [
    "for token_counts in a:\n",
    "    print(token_counts)"
   ]
  },
  {
   "cell_type": "code",
   "execution_count": 4,
   "metadata": {},
   "outputs": [],
   "source": [
    "index = Index('tfidf')\n",
    "ext = EntityExtractor(index)"
   ]
  },
  {
   "cell_type": "code",
   "execution_count": 5,
   "metadata": {},
   "outputs": [],
   "source": [
    "db = sqlite3.connect('./data/features/train.dummy.feature.db')\n",
    "cursor= db.cursor()\n",
    "\n",
    "result = cursor.execute(\"\"\"SELECT * FROM features WHERE query_id ='\"5adf732a5542993a75d264e9\"'\"\"\").fetchall()"
   ]
  },
  {
   "cell_type": "code",
   "execution_count": 6,
   "metadata": {},
   "outputs": [
    {
     "data": {
      "text/plain": [
       "('\"5adf732a5542993a75d264e9\"',\n",
       " '\"bridge\"',\n",
       " '\"easy\"',\n",
       " '939821',\n",
       " '41539372',\n",
       " '\"Kelli Ward\"',\n",
       " '\"Which  American politician did Donahue replaced \"',\n",
       " '\"Kelli Ward (\\\\\"nee\\\\\" Kaznoski; born January 25, 1969) is an American politician  and osteopathic physician . 0eos0  A member of the Republican Party , Ward was elected in 2012 to serve in the Arizona State Senate  representing the fifth legislative district. 0eos0  She was unopposed for election in 2014. 0eos0  While serving in office, she continued to practice medicine in the emergency departments in Lake Havasu City  and Kingman , Arizona. 0eop0 In July 2015, Ward announced her candidacy for the United States Senate , challenging incumbent U.S. Senator John McCain  in the Republican primary  in the 2016 election . 0eos0  That December, she resigned from the State Senate in order to focus her efforts on the U.S. Senate race. 0eos0  In August 2016 she was defeated by McCain in the Republican primary, 51 percent to 39 percent.\"',\n",
       " '[26, 45, 355, 524, 901240, 1026]',\n",
       " '[1594194, 1831, 1594194, 1831, 1871, 1586464, 25, 134, 334, 841, 7, 20, 45, 355, 5, 2284534, 2688, 4, 6, 113, 2, 1, 1350, 190, 1831, 9, 404, 3, 222, 8, 1568, 3, 1, 1587, 61, 1325, 1393, 1, 949, 1114, 47, 4, 37, 9, 12673, 14, 316, 3, 237, 4, 162, 735, 3, 385, 37, 955, 8, 1168, 1313, 3, 1, 3555, 4090, 3, 315, 1309483, 60, 5, 1632782, 1587, 10, 3, 141, 246, 1831, 1014, 44, 17623, 14, 1, 51, 63, 1325, 10104, 3489, 145, 2600, 135, 1954397, 3, 1, 1350, 840, 3, 1, 264, 316, 4, 22, 160, 37, 3153, 19, 1, 61, 1325, 3, 419, 8, 1937, 44, 2769, 15, 1, 145, 1325, 526, 4, 3, 139, 264, 37, 9, 1088, 13, 1954397, 3, 1, 1350, 840, 2876, 3365, 8, 2713, 3365]',\n",
       " '8.711728332629834',\n",
       " '4.94065645841247e-324',\n",
       " '0.0',\n",
       " '9.88131291682493e-322',\n",
       " '0.0',\n",
       " '0.000596768439395553',\n",
       " '9.946140656592551e-05',\n",
       " '1',\n",
       " '0.16666666666666666',\n",
       " '0',\n",
       " '1',\n",
       " '0',\n",
       " '0',\n",
       " '0',\n",
       " '0',\n",
       " '0',\n",
       " '0',\n",
       " '0',\n",
       " '0',\n",
       " '148',\n",
       " '1')"
      ]
     },
     "execution_count": 6,
     "metadata": {},
     "output_type": "execute_result"
    }
   ],
   "source": [
    "result[0]"
   ]
  },
  {
   "cell_type": "code",
   "execution_count": 11,
   "metadata": {},
   "outputs": [],
   "source": [
    "query_text = json.loads(result[0][6])\n",
    "doc_text = json.loads(result[0][7])"
   ]
  },
  {
   "cell_type": "code",
   "execution_count": 13,
   "metadata": {},
   "outputs": [
    {
     "data": {
      "text/plain": [
       "'Which  American politician did Donahue replaced '"
      ]
     },
     "execution_count": 13,
     "metadata": {},
     "output_type": "execute_result"
    }
   ],
   "source": [
    "query_text"
   ]
  },
  {
   "cell_type": "code",
   "execution_count": 14,
   "metadata": {},
   "outputs": [
    {
     "data": {
      "text/plain": [
       "'Kelli Ward (\"nee\" Kaznoski; born January 25, 1969) is an American politician  and osteopathic physician . 0eos0  A member of the Republican Party , Ward was elected in 2012 to serve in the Arizona State Senate  representing the fifth legislative district. 0eos0  She was unopposed for election in 2014. 0eos0  While serving in office, she continued to practice medicine in the emergency departments in Lake Havasu City  and Kingman , Arizona. 0eop0 In July 2015, Ward announced her candidacy for the United States Senate , challenging incumbent U.S. Senator John McCain  in the Republican primary  in the 2016 election . 0eos0  That December, she resigned from the State Senate in order to focus her efforts on the U.S. Senate race. 0eos0  In August 2016 she was defeated by McCain in the Republican primary, 51 percent to 39 percent.'"
      ]
     },
     "execution_count": 14,
     "metadata": {},
     "output_type": "execute_result"
    }
   ],
   "source": [
    "doc_text"
   ]
  },
  {
   "cell_type": "code",
   "execution_count": 17,
   "metadata": {},
   "outputs": [],
   "source": [
    "ent_model = spacy.load('xx_ent_wiki_sm')"
   ]
  },
  {
   "cell_type": "code",
   "execution_count": 52,
   "metadata": {},
   "outputs": [],
   "source": [
    "e2i = {\n",
    "    \"PER\": 0,\n",
    "    \"LOC\": 1,\n",
    "    \"ORG\": 2,\n",
    "    \"MISC\": 3\n",
    "}\n",
    "i2e = {\n",
    "    0: \"PER\",\n",
    "    1: \"LOC\",\n",
    "    2: \"ORG\",\n",
    "    3: \"MISC\"\n",
    "}\n",
    "import re\n",
    "\n",
    "def extract(question: str, doc: str):\n",
    "    qu_ents = _get_entities(question)\n",
    "    doc_ents = _get_entities(doc)\n",
    "\n",
    "    entity_scores = _score_entities(qu_ents, doc_ents)\n",
    "\n",
    "    return entity_scores.tolist()\n",
    "\n",
    "def _get_entities(text: str):\n",
    "    parse = ent_model(text)\n",
    "\n",
    "    ents = cl.defaultdict(list)\n",
    "    for ent in parse.ents:\n",
    "        ents[ent.label_].append(ent.text)\n",
    "\n",
    "    return dict(ents)\n",
    "\n",
    "def _score_entities(qu_ents, doc_ents):\n",
    "    regex = re.compile(\"\\ +\")\n",
    "    ent_type_word_matches = np.zeros(len(e2i), dtype=np.float)\n",
    "    doc_ent_type_word_count = np.zeros(len(e2i), dtype=np.float)\n",
    "    for _type, _qu_ents in qu_ents.items():\n",
    "        _id = e2i[_type]\n",
    "        # a bit unnatural but loop first over the documents so I can get the count of words without double-counting.\n",
    "        for _doc_ents in doc_ents.get(_type, []):\n",
    "            for doc_ent_word in regex.split(_doc_ents.strip()):\n",
    "                doc_ent_word = doc_ent_word.lower()\n",
    "                # count the words in the document entities\n",
    "                doc_ent_type_word_count[_id] += 1\n",
    "                for _q_ent in _qu_ents:\n",
    "                    for question_entity_word in regex.split(_q_ent.strip()):\n",
    "                        question_entity_word = question_entity_word.lower()\n",
    "                        print(doc_ent_word, question_entity_word)                        \n",
    "                        ent_type_word_matches[_id] += int(question_entity_word == doc_ent_word)\n",
    "                        doc_ent_word = doc_ent_word.lower()\n",
    "    # do a safe division where 0s remain 0s.\n",
    "    # Because of the way it is built, if the doc_count is 0 also the matches are also 0.\n",
    "    return np.divide(ent_type_word_matches, doc_ent_type_word_count, where=doc_ent_type_word_count != 0)"
   ]
  },
  {
   "cell_type": "code",
   "execution_count": 53,
   "metadata": {},
   "outputs": [
    {
     "name": "stdout",
     "output_type": "stream",
     "text": [
      "american american\n",
      "republican american\n",
      "republican american\n",
      "lake donahue\n",
      "havasu donahue\n",
      "city donahue\n",
      "and donahue\n",
      "kingman donahue\n",
      "arizona donahue\n",
      "u.s. donahue\n",
      "[0. 0. 0. 1.] [0. 7. 0. 3.]\n"
     ]
    },
    {
     "data": {
      "text/plain": [
       "[0.0, 0.0, 0.0, 0.3333333333333333]"
      ]
     },
     "execution_count": 53,
     "metadata": {},
     "output_type": "execute_result"
    }
   ],
   "source": [
    "extract(query_text, doc_text)"
   ]
  },
  {
   "cell_type": "code",
   "execution_count": 20,
   "metadata": {},
   "outputs": [
    {
     "data": {
      "text/html": [
       "<div class=\"entities\" style=\"line-height: 2.5\">Which  \n",
       "<mark class=\"entity\" style=\"background: #ddd; padding: 0.45em 0.6em; margin: 0 0.25em; line-height: 1; border-radius: 0.35em; box-decoration-break: clone; -webkit-box-decoration-break: clone\">\n",
       "    American\n",
       "    <span style=\"font-size: 0.8em; font-weight: bold; line-height: 1; border-radius: 0.35em; text-transform: uppercase; vertical-align: middle; margin-left: 0.5rem\">MISC</span>\n",
       "</mark>\n",
       " politician did \n",
       "<mark class=\"entity\" style=\"background: #ff9561; padding: 0.45em 0.6em; margin: 0 0.25em; line-height: 1; border-radius: 0.35em; box-decoration-break: clone; -webkit-box-decoration-break: clone\">\n",
       "    Donahue\n",
       "    <span style=\"font-size: 0.8em; font-weight: bold; line-height: 1; border-radius: 0.35em; text-transform: uppercase; vertical-align: middle; margin-left: 0.5rem\">LOC</span>\n",
       "</mark>\n",
       " replaced </div>\n",
       "\n",
       "<div class=\"entities\" style=\"line-height: 2.5\">\n",
       "<mark class=\"entity\" style=\"background: #ddd; padding: 0.45em 0.6em; margin: 0 0.25em; line-height: 1; border-radius: 0.35em; box-decoration-break: clone; -webkit-box-decoration-break: clone\">\n",
       "    Kelli Ward\n",
       "    <span style=\"font-size: 0.8em; font-weight: bold; line-height: 1; border-radius: 0.35em; text-transform: uppercase; vertical-align: middle; margin-left: 0.5rem\">PER</span>\n",
       "</mark>\n",
       " (\"nee\" \n",
       "<mark class=\"entity\" style=\"background: #ddd; padding: 0.45em 0.6em; margin: 0 0.25em; line-height: 1; border-radius: 0.35em; box-decoration-break: clone; -webkit-box-decoration-break: clone\">\n",
       "    Kaznoski\n",
       "    <span style=\"font-size: 0.8em; font-weight: bold; line-height: 1; border-radius: 0.35em; text-transform: uppercase; vertical-align: middle; margin-left: 0.5rem\">PER</span>\n",
       "</mark>\n",
       "; born January 25, 1969) is an \n",
       "<mark class=\"entity\" style=\"background: #ddd; padding: 0.45em 0.6em; margin: 0 0.25em; line-height: 1; border-radius: 0.35em; box-decoration-break: clone; -webkit-box-decoration-break: clone\">\n",
       "    American\n",
       "    <span style=\"font-size: 0.8em; font-weight: bold; line-height: 1; border-radius: 0.35em; text-transform: uppercase; vertical-align: middle; margin-left: 0.5rem\">MISC</span>\n",
       "</mark>\n",
       " politician  and osteopathic physician . 0eos0  A member of the \n",
       "<mark class=\"entity\" style=\"background: #7aecec; padding: 0.45em 0.6em; margin: 0 0.25em; line-height: 1; border-radius: 0.35em; box-decoration-break: clone; -webkit-box-decoration-break: clone\">\n",
       "    Republican Party\n",
       "    <span style=\"font-size: 0.8em; font-weight: bold; line-height: 1; border-radius: 0.35em; text-transform: uppercase; vertical-align: middle; margin-left: 0.5rem\">ORG</span>\n",
       "</mark>\n",
       " , \n",
       "<mark class=\"entity\" style=\"background: #ddd; padding: 0.45em 0.6em; margin: 0 0.25em; line-height: 1; border-radius: 0.35em; box-decoration-break: clone; -webkit-box-decoration-break: clone\">\n",
       "    Ward\n",
       "    <span style=\"font-size: 0.8em; font-weight: bold; line-height: 1; border-radius: 0.35em; text-transform: uppercase; vertical-align: middle; margin-left: 0.5rem\">PER</span>\n",
       "</mark>\n",
       " was elected in 2012 to serve in the \n",
       "<mark class=\"entity\" style=\"background: #7aecec; padding: 0.45em 0.6em; margin: 0 0.25em; line-height: 1; border-radius: 0.35em; box-decoration-break: clone; -webkit-box-decoration-break: clone\">\n",
       "    Arizona State Senate\n",
       "    <span style=\"font-size: 0.8em; font-weight: bold; line-height: 1; border-radius: 0.35em; text-transform: uppercase; vertical-align: middle; margin-left: 0.5rem\">ORG</span>\n",
       "</mark>\n",
       "  representing the fifth legislative district. 0eos0  She was unopposed for election in 2014. 0eos0  While serving in office, she continued to practice medicine in the emergency departments in \n",
       "<mark class=\"entity\" style=\"background: #ff9561; padding: 0.45em 0.6em; margin: 0 0.25em; line-height: 1; border-radius: 0.35em; box-decoration-break: clone; -webkit-box-decoration-break: clone\">\n",
       "    Lake Havasu City  and Kingman\n",
       "    <span style=\"font-size: 0.8em; font-weight: bold; line-height: 1; border-radius: 0.35em; text-transform: uppercase; vertical-align: middle; margin-left: 0.5rem\">LOC</span>\n",
       "</mark>\n",
       " , \n",
       "<mark class=\"entity\" style=\"background: #ff9561; padding: 0.45em 0.6em; margin: 0 0.25em; line-height: 1; border-radius: 0.35em; box-decoration-break: clone; -webkit-box-decoration-break: clone\">\n",
       "    Arizona\n",
       "    <span style=\"font-size: 0.8em; font-weight: bold; line-height: 1; border-radius: 0.35em; text-transform: uppercase; vertical-align: middle; margin-left: 0.5rem\">LOC</span>\n",
       "</mark>\n",
       ". 0eop0 In July 2015, \n",
       "<mark class=\"entity\" style=\"background: #ddd; padding: 0.45em 0.6em; margin: 0 0.25em; line-height: 1; border-radius: 0.35em; box-decoration-break: clone; -webkit-box-decoration-break: clone\">\n",
       "    Ward\n",
       "    <span style=\"font-size: 0.8em; font-weight: bold; line-height: 1; border-radius: 0.35em; text-transform: uppercase; vertical-align: middle; margin-left: 0.5rem\">PER</span>\n",
       "</mark>\n",
       " announced her candidacy for the \n",
       "<mark class=\"entity\" style=\"background: #7aecec; padding: 0.45em 0.6em; margin: 0 0.25em; line-height: 1; border-radius: 0.35em; box-decoration-break: clone; -webkit-box-decoration-break: clone\">\n",
       "    United States Senate\n",
       "    <span style=\"font-size: 0.8em; font-weight: bold; line-height: 1; border-radius: 0.35em; text-transform: uppercase; vertical-align: middle; margin-left: 0.5rem\">ORG</span>\n",
       "</mark>\n",
       " , challenging incumbent \n",
       "<mark class=\"entity\" style=\"background: #ff9561; padding: 0.45em 0.6em; margin: 0 0.25em; line-height: 1; border-radius: 0.35em; box-decoration-break: clone; -webkit-box-decoration-break: clone\">\n",
       "    U.S.\n",
       "    <span style=\"font-size: 0.8em; font-weight: bold; line-height: 1; border-radius: 0.35em; text-transform: uppercase; vertical-align: middle; margin-left: 0.5rem\">LOC</span>\n",
       "</mark>\n",
       " Senator \n",
       "<mark class=\"entity\" style=\"background: #ddd; padding: 0.45em 0.6em; margin: 0 0.25em; line-height: 1; border-radius: 0.35em; box-decoration-break: clone; -webkit-box-decoration-break: clone\">\n",
       "    John McCain\n",
       "    <span style=\"font-size: 0.8em; font-weight: bold; line-height: 1; border-radius: 0.35em; text-transform: uppercase; vertical-align: middle; margin-left: 0.5rem\">PER</span>\n",
       "</mark>\n",
       "  in the \n",
       "<mark class=\"entity\" style=\"background: #ddd; padding: 0.45em 0.6em; margin: 0 0.25em; line-height: 1; border-radius: 0.35em; box-decoration-break: clone; -webkit-box-decoration-break: clone\">\n",
       "    Republican\n",
       "    <span style=\"font-size: 0.8em; font-weight: bold; line-height: 1; border-radius: 0.35em; text-transform: uppercase; vertical-align: middle; margin-left: 0.5rem\">MISC</span>\n",
       "</mark>\n",
       " primary  in the 2016 election . 0eos0  That December, she resigned from the \n",
       "<mark class=\"entity\" style=\"background: #7aecec; padding: 0.45em 0.6em; margin: 0 0.25em; line-height: 1; border-radius: 0.35em; box-decoration-break: clone; -webkit-box-decoration-break: clone\">\n",
       "    State Senate\n",
       "    <span style=\"font-size: 0.8em; font-weight: bold; line-height: 1; border-radius: 0.35em; text-transform: uppercase; vertical-align: middle; margin-left: 0.5rem\">ORG</span>\n",
       "</mark>\n",
       " in order to focus her efforts on the \n",
       "<mark class=\"entity\" style=\"background: #7aecec; padding: 0.45em 0.6em; margin: 0 0.25em; line-height: 1; border-radius: 0.35em; box-decoration-break: clone; -webkit-box-decoration-break: clone\">\n",
       "    U.S. Senate\n",
       "    <span style=\"font-size: 0.8em; font-weight: bold; line-height: 1; border-radius: 0.35em; text-transform: uppercase; vertical-align: middle; margin-left: 0.5rem\">ORG</span>\n",
       "</mark>\n",
       " race. 0eos0  In August 2016 she was defeated by \n",
       "<mark class=\"entity\" style=\"background: #ddd; padding: 0.45em 0.6em; margin: 0 0.25em; line-height: 1; border-radius: 0.35em; box-decoration-break: clone; -webkit-box-decoration-break: clone\">\n",
       "    McCain\n",
       "    <span style=\"font-size: 0.8em; font-weight: bold; line-height: 1; border-radius: 0.35em; text-transform: uppercase; vertical-align: middle; margin-left: 0.5rem\">PER</span>\n",
       "</mark>\n",
       " in the \n",
       "<mark class=\"entity\" style=\"background: #ddd; padding: 0.45em 0.6em; margin: 0 0.25em; line-height: 1; border-radius: 0.35em; box-decoration-break: clone; -webkit-box-decoration-break: clone\">\n",
       "    Republican\n",
       "    <span style=\"font-size: 0.8em; font-weight: bold; line-height: 1; border-radius: 0.35em; text-transform: uppercase; vertical-align: middle; margin-left: 0.5rem\">MISC</span>\n",
       "</mark>\n",
       " primary, 51 percent to 39 percent.</div>"
      ],
      "text/plain": [
       "<IPython.core.display.HTML object>"
      ]
     },
     "metadata": {},
     "output_type": "display_data"
    }
   ],
   "source": [
    "question_parse = ent_model(query_text)\n",
    "doc_parse = ent_model(doc_text)\n",
    "spacy.displacy.render([question_parse, doc_parse], style='ent', jupyter=True)"
   ]
  },
  {
   "cell_type": "code",
   "execution_count": 30,
   "metadata": {},
   "outputs": [
    {
     "data": {
      "text/plain": [
       "Kelli Ward (\"nee\" Kaznoski; born January 25, 1969) is an American politician  and osteopathic physician . 0eos0  A member of the Republican Party , Ward was elected in 2012 to serve in the Arizona State Senate  representing the fifth legislative district. 0eos0  She was unopposed for election in 2014. 0eos0  While serving in office, she continued to practice medicine in the emergency departments in Lake Havasu City  and Kingman , Arizona. 0eop0 In July 2015, Ward announced her candidacy for the United States Senate , challenging incumbent U.S. Senator John McCain  in the Republican primary  in the 2016 election . 0eos0  That December, she resigned from the State Senate in order to focus her efforts on the U.S. Senate race. 0eos0  In August 2016 she was defeated by McCain in the Republican primary, 51 percent to 39 percent."
      ]
     },
     "execution_count": 30,
     "metadata": {},
     "output_type": "execute_result"
    }
   ],
   "source": []
  },
  {
   "cell_type": "code",
   "execution_count": 31,
   "metadata": {},
   "outputs": [
    {
     "data": {
      "text/plain": [
       "[5e-324, 0.0, 9.9e-322, 0.0]"
      ]
     },
     "execution_count": 31,
     "metadata": {},
     "output_type": "execute_result"
    }
   ],
   "source": [
    "ext.extract(query_text, doc_text)"
   ]
  },
  {
   "cell_type": "code",
   "execution_count": null,
   "metadata": {},
   "outputs": [],
   "source": []
  }
 ],
 "metadata": {
  "kernelspec": {
   "display_name": "Python 3",
   "language": "python",
   "name": "python3"
  },
  "toc": {
   "base_numbering": 1,
   "nav_menu": {},
   "number_sections": true,
   "sideBar": true,
   "skip_h1_title": false,
   "title_cell": "Table of Contents",
   "title_sidebar": "Contents",
   "toc_cell": false,
   "toc_position": {},
   "toc_section_display": true,
   "toc_window_display": false
  }
 },
 "nbformat": 4,
 "nbformat_minor": 2
}
