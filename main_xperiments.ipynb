{
 "cells": [
  {
   "cell_type": "code",
   "execution_count": 8,
   "metadata": {},
   "outputs": [
    {
     "name": "stdout",
     "output_type": "stream",
     "text": [
      "The autoreload extension is already loaded. To reload it, use:\n",
      "  %reload_ext autoreload\n"
     ]
    }
   ],
   "source": [
    "%load_ext autoreload\n",
    "%autoreload 2"
   ]
  },
  {
   "cell_type": "code",
   "execution_count": 9,
   "metadata": {},
   "outputs": [],
   "source": [
    "import json\n",
    "from retrieval.evaluate import Evaluator, Run\n",
    "from retrieval.neural.modules.encoders import MaxPoolEncoder, MeanPoolEncoder\n",
    "from retrieval.neural.modules.scorers import LinearLogisticRegression\n",
    "from services.index import Index\n",
    "import unidecode\n",
    "from tqdm import tqdm\n",
    "import torch\n",
    "import pytrec_eval\n",
    "from services import sql\n",
    "import sqlite3\n",
    "import pickle\n",
    "import pandas as pd"
   ]
  },
  {
   "cell_type": "code",
   "execution_count": 4,
   "metadata": {},
   "outputs": [],
   "source": [
    "encoder = MaxPoolEncoder(50)"
   ]
  },
  {
   "cell_type": "code",
   "execution_count": 5,
   "metadata": {},
   "outputs": [
    {
     "data": {
      "text/plain": [
       "tensor([[[ 0.4180,  0.2497, -0.4124,  0.1217,  0.3453, -0.0445, -0.4969,\n",
       "          -0.1786, -0.0007, -0.6566,  0.2784, -0.1477, -0.5568,  0.1466,\n",
       "          -0.0095,  0.0117,  0.1020, -0.1279, -0.8443, -0.1218, -0.0168,\n",
       "          -0.3328, -0.1552, -0.2313, -0.1918, -1.8823, -0.7675,  0.0991,\n",
       "          -0.4212, -0.1953,  4.0071, -0.1859, -0.5229, -0.3168,  0.0006,\n",
       "           0.0074,  0.1778, -0.1590,  0.0120, -0.0542, -0.2987, -0.1575,\n",
       "          -0.3476, -0.0456, -0.4425,  0.1878,  0.0028, -0.1841, -0.1151,\n",
       "          -0.7858]]])"
      ]
     },
     "execution_count": 5,
     "metadata": {},
     "output_type": "execute_result"
    }
   ],
   "source": [
    "encoder.embed(torch.tensor(1).view(1,1))"
   ]
  },
  {
   "cell_type": "code",
   "execution_count": 9,
   "metadata": {},
   "outputs": [],
   "source": [
    "query = encoder(torch.tensor([1,2]).view(1,2))"
   ]
  },
  {
   "cell_type": "code",
   "execution_count": 10,
   "metadata": {},
   "outputs": [],
   "source": [
    "doc = encoder(torch.tensor([1,2]).view(1,2))"
   ]
  },
  {
   "cell_type": "code",
   "execution_count": 11,
   "metadata": {},
   "outputs": [
    {
     "data": {
      "text/plain": [
       "tensor([[1.0000]], grad_fn=<ViewBackward>)"
      ]
     },
     "execution_count": 11,
     "metadata": {},
     "output_type": "execute_result"
    }
   ],
   "source": [
    "scorer(query, doc)"
   ]
  },
  {
   "cell_type": "code",
   "execution_count": 10,
   "metadata": {},
   "outputs": [],
   "source": [
    "with open('./data/index/token2id.tar', 'rb') as file:\n",
    "    t2i = pickle.load(file)\n",
    "with open('./data/index/id2tf.tar', 'rb') as file:\n",
    "    i2tf = pickle.load(file)"
   ]
  },
  {
   "cell_type": "code",
   "execution_count": 13,
   "metadata": {},
   "outputs": [
    {
     "name": "stdout",
     "output_type": "stream",
     "text": [
      "the\t\t1\t33518850\n",
      "of\t\t2\t17423417\n",
      "in\t\t3\t16323243\n",
      "0eos0\t\t4\t14893419\n",
      "and\t\t5\t13957525\n",
      "a\t\t6\t11768802\n",
      "is\t\t7\t8258719\n",
      "to\t\t8\t7602930\n",
      "was\t\t9\t7171948\n",
      "0eop0\t\t10\t6569478\n",
      "as\t\t11\t3922432\n",
      "he\t\t12\t3782949\n",
      "by\t\t13\t3739468\n",
      "for\t\t14\t3717419\n",
      "on\t\t15\t3670719\n",
      "it\t\t16\t3128950\n",
      "at\t\t17\t2992988\n",
      "with\t\t18\t2889002\n",
      "from\t\t19\t2767686\n",
      "an\t\t20\t2383033\n",
      "his\t\t21\t2250277\n",
      "that\t\t22\t1599742\n",
      "are\t\t23\t1288875\n",
      "also\t\t24\t1270719\n",
      "born\t\t25\t1267274\n",
      "which\t\t26\t1249189\n",
      "first\t\t27\t1228057\n",
      "has\t\t28\t1210251\n",
      "s\t\t29\t1176048\n",
      "or\t\t30\t1117400\n",
      "its\t\t31\t1051223\n",
      "who\t\t32\t1003060\n",
      "one\t\t33\t980661\n",
      "were\t\t34\t957796\n",
      "this\t\t35\t934600\n",
      "new\t\t36\t918858\n",
      "she\t\t37\t899686\n",
      "after\t\t38\t811843\n",
      "school\t\t39\t775686\n",
      "two\t\t40\t770519\n",
      "known\t\t41\t745881\n",
      "may\t\t42\t736572\n",
      "be\t\t43\t720539\n",
      "her\t\t44\t706083\n",
      "american\t\t45\t704928\n",
      "university\t\t46\t701714\n",
      "district\t\t47\t691992\n",
      "their\t\t48\t677463\n",
      "had\t\t49\t674220\n",
      "county\t\t50\t663662\n",
      "united\t\t51\t658472\n",
      "south\t\t52\t636136\n",
      "but\t\t53\t624799\n",
      "national\t\t54\t624705\n",
      "1\t\t55\t616609\n",
      "during\t\t56\t585705\n",
      "they\t\t57\t582301\n",
      "been\t\t58\t578535\n",
      "film\t\t59\t576031\n",
      "city\t\t60\t573364\n",
      "state\t\t61\t565450\n",
      "located\t\t62\t565277\n",
      "states\t\t63\t564871\n",
      "world\t\t64\t559162\n",
      "family\t\t65\t548803\n",
      "north\t\t66\t544004\n",
      "all\t\t67\t521484\n",
      "football\t\t68\t517822\n",
      "played\t\t69\t516927\n",
      "album\t\t70\t516520\n",
      "team\t\t71\t515168\n",
      "have\t\t72\t501190\n",
      "name\t\t73\t499054\n",
      "season\t\t74\t492812\n",
      "other\t\t75\t488178\n",
      "2\t\t76\t487628\n",
      "part\t\t77\t485362\n",
      "where\t\t78\t485313\n",
      "when\t\t79\t484290\n",
      "village\t\t80\t479515\n",
      "time\t\t81\t477388\n",
      "not\t\t82\t477107\n",
      "league\t\t83\t472222\n",
      "de\t\t84\t458037\n",
      "between\t\t85\t457932\n",
      "year\t\t86\t455003\n",
      "years\t\t87\t448487\n",
      "into\t\t88\t445176\n",
      "west\t\t89\t433389\n",
      "three\t\t90\t429762\n",
      "area\t\t91\t426430\n",
      "released\t\t92\t413012\n",
      "most\t\t93\t412589\n",
      "station\t\t94\t406065\n",
      "3\t\t95\t404967\n",
      "there\t\t96\t397994\n",
      "up\t\t97\t396769\n",
      "high\t\t98\t395927\n",
      "second\t\t99\t394970\n",
      "later\t\t100\t393958\n"
     ]
    }
   ],
   "source": [
    "for t in list(t2i.keys())[0:100]:\n",
    "    print(f'{t}\\t\\t{t2i[t]}\\t{i2tf[t2i[t]]}')"
   ]
  },
  {
   "cell_type": "code",
   "execution_count": 3,
   "metadata": {},
   "outputs": [
    {
     "name": "stderr",
     "output_type": "stream",
     "text": [
      "INFO:root:[2018-12-06 03:34:04.823619]\t[79721]\tLoading index ./data/index/indri with tfidf query environment.\n",
      "INFO:root:[2018-12-06 03:34:09.403098]\t[79721]\tNot loading stopwords.\n",
      "INFO:root:[2018-12-06 03:34:17.130822]\t[79721]\tLoaded index in 0:00:12.306049.\n"
     ]
    }
   ],
   "source": [
    "index = Index('tfidf')"
   ]
  },
  {
   "cell_type": "code",
   "execution_count": 5,
   "metadata": {},
   "outputs": [
    {
     "name": "stdout",
     "output_type": "stream",
     "text": [
      "981 ms ± 12 ms per loop (mean ± std. dev. of 7 runs, 1 loop each)\n"
     ]
    }
   ],
   "source": [
    "%timeit index.unigram_query('What is anarchism?', 1000)"
   ]
  },
  {
   "cell_type": "code",
   "execution_count": 7,
   "metadata": {},
   "outputs": [],
   "source": [
    "def fn():\n",
    "    with sqlite3.connect('./data/term_retrievals/uni_tfidf.dummy/retrievals.sqlite') as db:\n",
    "        (q_id, target_titles, doc_int_ids) = db.cursor() \\\n",
    "            .execute(sql.get_question_by_qid(), ('5a7a52745542996c55b2dd4f',)) \\\n",
    "            .fetchone()\n",
    "        return pickle.loads(doc_int_ids)[:1000]"
   ]
  },
  {
   "cell_type": "code",
   "execution_count": 10,
   "metadata": {},
   "outputs": [
    {
     "name": "stdout",
     "output_type": "stream",
     "text": [
      "859 µs ± 33.5 µs per loop (mean ± std. dev. of 7 runs, 1000 loops each)\n"
     ]
    }
   ],
   "source": [
    "%timeit fn()"
   ]
  },
  {
   "cell_type": "code",
   "execution_count": 3,
   "metadata": {},
   "outputs": [],
   "source": [
    "df = pd.read_pickle('./data/candidates.tfidf.tar')"
   ]
  },
  {
   "cell_type": "code",
   "execution_count": 4,
   "metadata": {},
   "outputs": [
    {
     "data": {
      "text/html": [
       "<div>\n",
       "<style scoped>\n",
       "    .dataframe tbody tr th:only-of-type {\n",
       "        vertical-align: middle;\n",
       "    }\n",
       "\n",
       "    .dataframe tbody tr th {\n",
       "        vertical-align: top;\n",
       "    }\n",
       "\n",
       "    .dataframe thead th {\n",
       "        text-align: right;\n",
       "    }\n",
       "</style>\n",
       "<table border=\"1\" class=\"dataframe\">\n",
       "  <thead>\n",
       "    <tr style=\"text-align: right;\">\n",
       "      <th></th>\n",
       "      <th>question_id</th>\n",
       "      <th>document_id</th>\n",
       "      <th>target</th>\n",
       "    </tr>\n",
       "  </thead>\n",
       "  <tbody>\n",
       "    <tr>\n",
       "      <th>0</th>\n",
       "      <td>5a7a06935542990198eaf050</td>\n",
       "      <td>1662997</td>\n",
       "      <td>1</td>\n",
       "    </tr>\n",
       "    <tr>\n",
       "      <th>1</th>\n",
       "      <td>5a7a06935542990198eaf050</td>\n",
       "      <td>4820929</td>\n",
       "      <td>0</td>\n",
       "    </tr>\n",
       "    <tr>\n",
       "      <th>2</th>\n",
       "      <td>5a7a06935542990198eaf050</td>\n",
       "      <td>1906799</td>\n",
       "      <td>0</td>\n",
       "    </tr>\n",
       "    <tr>\n",
       "      <th>3</th>\n",
       "      <td>5a7a06935542990198eaf050</td>\n",
       "      <td>3595436</td>\n",
       "      <td>0</td>\n",
       "    </tr>\n",
       "    <tr>\n",
       "      <th>4</th>\n",
       "      <td>5a7a06935542990198eaf050</td>\n",
       "      <td>43568</td>\n",
       "      <td>0</td>\n",
       "    </tr>\n",
       "  </tbody>\n",
       "</table>\n",
       "</div>"
      ],
      "text/plain": [
       "                question_id document_id target\n",
       "0  5a7a06935542990198eaf050     1662997      1\n",
       "1  5a7a06935542990198eaf050     4820929      0\n",
       "2  5a7a06935542990198eaf050     1906799      0\n",
       "3  5a7a06935542990198eaf050     3595436      0\n",
       "4  5a7a06935542990198eaf050       43568      0"
      ]
     },
     "execution_count": 4,
     "metadata": {},
     "output_type": "execute_result"
    }
   ],
   "source": [
    "df.head()"
   ]
  },
  {
   "cell_type": "code",
   "execution_count": 31,
   "metadata": {},
   "outputs": [],
   "source": [
    "run = Run()"
   ]
  },
  {
   "cell_type": "code",
   "execution_count": 32,
   "metadata": {},
   "outputs": [
    {
     "name": "stdout",
     "output_type": "stream",
     "text": [
      "-1\n"
     ]
    }
   ],
   "source": [
    "run.add_ranking(\"a\", {\"a1\": 1})\n",
    "run.add_ranking(\"b\", {\"b1\": 1, \"b2\": 2})\n",
    "run.update_ranking(\"d\", \"d1\", 3)"
   ]
  },
  {
   "cell_type": "code",
   "execution_count": 10,
   "metadata": {},
   "outputs": [],
   "source": [
    "run.update_rankings({\"c\": {\"c1\": 3}, \"b\": {\"b3\": 3}})"
   ]
  },
  {
   "cell_type": "code",
   "execution_count": 27,
   "metadata": {},
   "outputs": [
    {
     "data": {
      "text/plain": [
       "{'a': {'a1': 1}, 'b': {'b1': 1, 'b2': 2}, 'd': {}}"
      ]
     },
     "execution_count": 27,
     "metadata": {},
     "output_type": "execute_result"
    }
   ],
   "source": [
    "run"
   ]
  },
  {
   "cell_type": "code",
   "execution_count": 28,
   "metadata": {},
   "outputs": [
    {
     "name": "stdout",
     "output_type": "stream",
     "text": [
      "-1\n"
     ]
    },
    {
     "ename": "KeyError",
     "evalue": "'d1'",
     "output_type": "error",
     "traceback": [
      "\u001b[0;31m---------------------------------------------------------------------------\u001b[0m",
      "\u001b[0;31mKeyError\u001b[0m                                  Traceback (most recent call last)",
      "\u001b[0;32m<ipython-input-28-6a7be9c2c3f9>\u001b[0m in \u001b[0;36m<module>\u001b[0;34m\u001b[0m\n\u001b[0;32m----> 1\u001b[0;31m \u001b[0mrun\u001b[0m\u001b[0;34m.\u001b[0m\u001b[0mupdate_ranking\u001b[0m\u001b[0;34m(\u001b[0m\u001b[0;34m\"d\"\u001b[0m\u001b[0;34m,\u001b[0m \u001b[0;34m\"d1\"\u001b[0m\u001b[0;34m,\u001b[0m \u001b[0;36m3\u001b[0m\u001b[0;34m)\u001b[0m\u001b[0;34m\u001b[0m\u001b[0;34m\u001b[0m\u001b[0m\n\u001b[0m",
      "\u001b[0;32m~/Code/AI/information-retrieval-2/retrieval/evaluate.py\u001b[0m in \u001b[0;36mupdate_ranking\u001b[0;34m(self, question_id, document_id, score)\u001b[0m\n\u001b[1;32m     23\u001b[0m             \u001b[0mself\u001b[0m\u001b[0;34m[\u001b[0m\u001b[0mquestion_id\u001b[0m\u001b[0;34m]\u001b[0m \u001b[0;34m=\u001b[0m \u001b[0;34m{\u001b[0m\u001b[0;34m}\u001b[0m\u001b[0;34m\u001b[0m\u001b[0;34m\u001b[0m\u001b[0m\n\u001b[1;32m     24\u001b[0m         \u001b[0mprint\u001b[0m\u001b[0;34m(\u001b[0m\u001b[0mself\u001b[0m\u001b[0;34m[\u001b[0m\u001b[0mquestion_id\u001b[0m\u001b[0;34m]\u001b[0m\u001b[0;34m.\u001b[0m\u001b[0mget\u001b[0m\u001b[0;34m(\u001b[0m\u001b[0mdocument_id\u001b[0m\u001b[0;34m,\u001b[0m \u001b[0;34m-\u001b[0m\u001b[0;36m1\u001b[0m\u001b[0;34m)\u001b[0m\u001b[0;34m)\u001b[0m\u001b[0;34m\u001b[0m\u001b[0;34m\u001b[0m\u001b[0m\n\u001b[0;32m---> 25\u001b[0;31m         \u001b[0;32massert\u001b[0m \u001b[0mself\u001b[0m\u001b[0;34m[\u001b[0m\u001b[0mquestion_id\u001b[0m\u001b[0;34m]\u001b[0m\u001b[0;34m.\u001b[0m\u001b[0mget\u001b[0m\u001b[0;34m(\u001b[0m\u001b[0mdocument_id\u001b[0m\u001b[0;34m,\u001b[0m \u001b[0;34m-\u001b[0m\u001b[0;36m1\u001b[0m\u001b[0;34m)\u001b[0m \u001b[0;34m!=\u001b[0m \u001b[0;34m-\u001b[0m\u001b[0;36m1\u001b[0m\u001b[0;34m,\u001b[0m \u001b[0;34mf'Ranking already exists {question_id}.{document_id}'\u001b[0m\u001b[0;31m \u001b[0m\u001b[0;31m\\\u001b[0m\u001b[0;34m\u001b[0m\u001b[0;34m\u001b[0m\u001b[0m\n\u001b[0m\u001b[1;32m     26\u001b[0m             \u001b[0;34mf'={self[question_id][document_id]}'\u001b[0m\u001b[0;34m\u001b[0m\u001b[0;34m\u001b[0m\u001b[0m\n\u001b[1;32m     27\u001b[0m         \u001b[0mself\u001b[0m\u001b[0;34m[\u001b[0m\u001b[0mquestion_id\u001b[0m\u001b[0;34m]\u001b[0m\u001b[0;34m[\u001b[0m\u001b[0mdocument_id\u001b[0m\u001b[0;34m]\u001b[0m \u001b[0;34m=\u001b[0m \u001b[0mscore\u001b[0m\u001b[0;34m\u001b[0m\u001b[0;34m\u001b[0m\u001b[0m\n",
      "\u001b[0;31mKeyError\u001b[0m: 'd1'"
     ]
    }
   ],
   "source": []
  },
  {
   "cell_type": "code",
   "execution_count": 7,
   "metadata": {},
   "outputs": [
    {
     "data": {
      "text/plain": [
       "{'a': {'a1': 1}, 'b': {'b1': 1, 'b2': 2}, 'd': {'d1': 3}}"
      ]
     },
     "execution_count": 7,
     "metadata": {},
     "output_type": "execute_result"
    }
   ],
   "source": [
    "run"
   ]
  },
  {
   "cell_type": "code",
   "execution_count": null,
   "metadata": {},
   "outputs": [],
   "source": []
  }
 ],
 "metadata": {
  "kernelspec": {
   "display_name": "Python 3",
   "language": "python",
   "name": "python3"
  },
  "language_info": {
   "codemirror_mode": {
    "name": "ipython",
    "version": 3
   },
   "file_extension": ".py",
   "mimetype": "text/x-python",
   "name": "python",
   "nbconvert_exporter": "python",
   "pygments_lexer": "ipython3",
   "version": "3.6.7"
  }
 },
 "nbformat": 4,
 "nbformat_minor": 2
}
