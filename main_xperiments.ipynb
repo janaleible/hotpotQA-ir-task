{
 "cells": [
  {
   "cell_type": "code",
   "execution_count": 1,
   "metadata": {},
   "outputs": [],
   "source": [
    "%load_ext autoreload\n",
    "%autoreload 2"
   ]
  },
  {
   "cell_type": "code",
   "execution_count": 2,
   "metadata": {},
   "outputs": [],
   "source": [
    "from constants import *\n",
    "import pyndri\n",
    "import sqlite3\n",
    "import numpy as np\n",
    "import pickle\n",
    "from retrieval import index as idx\n",
    "from dataset.Dataset import Dataset"
   ]
  },
  {
   "cell_type": "code",
   "execution_count": 3,
   "metadata": {},
   "outputs": [],
   "source": [
    "with sqlite3.connect(FILTERED_DB) as conn:\n",
    "    cursor = conn.cursor()\n",
    "    data = Dataset(TRAINING_SET)\n",
    "    for question in data:\n",
    "        cursor.execute(f\"SELECT id from filtered WHERE id = ?\", (question.id,))\n",
    "        if cursor.fetchone() is None:\n",
    "            print(question)"
   ]
  },
  {
   "cell_type": "code",
   "execution_count": 8,
   "metadata": {},
   "outputs": [],
   "source": [
    "lengths = np.empty(len(data))\n",
    "with sqlite3.connect(FILTERED_DB) as conn:\n",
    "    cursor = conn.cursor()\n",
    "    data = Dataset(TRAINING_SET)\n",
    "    for i, question in enumerate(data):\n",
    "        cursor.execute(f\"SELECT result_int_ids from filtered WHERE id = ?\", (question.id,))\n",
    "        (result,) = cursor.fetchone()\n",
    "        result = pickle.loads(result)\n",
    "        lengths[i] = len(result)"
   ]
  },
  {
   "cell_type": "code",
   "execution_count": 9,
   "metadata": {},
   "outputs": [
    {
     "data": {
      "text/plain": [
       "2130.671431888288"
      ]
     },
     "execution_count": 9,
     "metadata": {},
     "output_type": "execute_result"
    }
   ],
   "source": [
    "lengths.mean()"
   ]
  },
  {
   "cell_type": "code",
   "execution_count": null,
   "metadata": {},
   "outputs": [],
   "source": [
    "def accuracy(true_positives: int, all_observations: int) -> float:\n",
    "    if all_observations == 0 and true_positives == 0:\n",
    "        return 0\n",
    "\n",
    "    return true_positives / all_observations\n",
    "\n",
    "comparison = 0\n",
    "bridge = 1\n",
    "hard = 0\n",
    "medium = 1\n",
    "easy = 2\n",
    "\n",
    "gold_article_ids = set()\n",
    "[[gold_article_ids.add(index.external2internal(idx)) for idx in index.title2wid[title]] for title in\n",
    " question['gold']]\n",
    "\n",
    "number_of_articles_found = len(gold_article_ids.intersection(filtered_articles))\n",
    "question_type = comparison if question['type'] == 'comparison' else bridge\n",
    "question_level = hard if question['level'] == 'hard' else medium if question['level'] == 'medium' else easy\n",
    "found_articles[question_type][question_level][number_of_articles_found] += 1\n",
    "\n",
    "# shape: (question type [comparison, bridge], level [hard, medium, easy], number of found gold articles [0, 1, 2])\n",
    "found_articles = numpy.zeros((2, 3, 3))\n",
    "fully_accurate = accuracy(int(numpy.sum(found_articles[:, :, 2])), int(numpy.sum(found_articles[:, :, :])))\n",
    "somewhat_accurate = accuracy(int(numpy.sum(found_articles[:, :, 1:])), int(numpy.sum(found_articles[:, :, :])))\n",
    "accurate_hard_questions = accuracy(int(numpy.sum(found_articles[:, hard, 2])),\n",
    "                                   int(numpy.sum(found_articles[:, hard, :])))\n",
    "accurate_medium_questions = accuracy(int(numpy.sum(found_articles[:, medium, 2])),\n",
    "                                     int(numpy.sum(found_articles[:, medium, :])))\n",
    "accurate_easy_questions = accuracy(int(numpy.sum(found_articles[:, easy, 2])),\n",
    "                                   int(numpy.sum(found_articles[:, easy, :])))\n",
    "accurate_comparison_questions = accuracy(int(numpy.sum(found_articles[comparison, :, 2])),\n",
    "                                         int(numpy.sum(found_articles[comparison, :, :])))\n",
    "accurate_bridge_questions = accuracy(int(numpy.sum(found_articles[bridge, :, 2])),\n",
    "                                     int(numpy.sum(found_articles[bridge, :, :])))\n",
    "\n",
    "print(f'Finished processing in {datetime.now() - start}')\n",
    "print(f'Fully accurate: {round(fully_accurate, 4)}')\n",
    "print(f'Somewhat accurate: {round(somewhat_accurate, 4)}')\n",
    "print('-' * 10)\n",
    "print(f'easy question accuracy: {round(accurate_easy_questions, 4)}')\n",
    "print(f'medium question accuracy: {round(accurate_medium_questions, 4)}')\n",
    "print(f'hard question accuracy: {round(accurate_hard_questions, 4)}')\n",
    "print('-' * 10)\n",
    "print(f'comparison question accuracy: {round(accurate_comparison_questions, 4)}')\n",
    "print(f'bridge question accuracy: {round(accurate_bridge_questions, 4)}')\n",
    "\n",
    "numpy.save(constants.FILTER_RESULTS, found_articles)"
   ]
  }
 ],
 "metadata": {
  "kernelspec": {
   "display_name": "Python 3",
   "language": "python",
   "name": "python3"
  },
  "language_info": {
   "codemirror_mode": {
    "name": "ipython",
    "version": 3
   },
   "file_extension": ".py",
   "mimetype": "text/x-python",
   "name": "python",
   "nbconvert_exporter": "python",
   "pygments_lexer": "ipython3",
   "version": "3.6.5"
  }
 },
 "nbformat": 4,
 "nbformat_minor": 2
}
