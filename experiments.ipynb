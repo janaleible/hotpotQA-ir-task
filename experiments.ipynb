{
 "cells": [
  {
   "cell_type": "code",
   "execution_count": 8,
   "metadata": {},
   "outputs": [
    {
     "name": "stdout",
     "output_type": "stream",
     "text": [
      "The autoreload extension is already loaded. To reload it, use:\n",
      "  %reload_ext autoreload\n"
     ]
    }
   ],
   "source": [
    "%load_ext autoreload\n",
    "%autoreload 2"
   ]
  },
  {
   "cell_type": "code",
   "execution_count": 30,
   "metadata": {},
   "outputs": [],
   "source": [
    "from constants import *\n",
    "import pyndri\n",
    "import sqlite3\n",
    "import numpy as np\n",
    "import pickle\n",
    "from retrieval import index as idx"
   ]
  },
  {
   "cell_type": "code",
   "execution_count": 31,
   "metadata": {},
   "outputs": [
    {
     "name": "stderr",
     "output_type": "stream",
     "text": [
      "INFO:root:Loaded index from ./data/index/indri with Porter stemmer in 0:00:12.656226.\n",
      "56 <class 'retrieval.index.Index'> <retrieval.index.Index object at 0x256f88da0>\n",
      "INFO:root:0:00:12.656226\n"
     ]
    },
    {
     "name": "stdout",
     "output_type": "stream",
     "text": [
      "56\n"
     ]
    }
   ],
   "source": [
    "index = idx.Index()"
   ]
  },
  {
   "cell_type": "code",
   "execution_count": null,
   "metadata": {},
   "outputs": [],
   "source": [
    "# index.index.document_ids(58198)\n",
    "index.document(4915535)"
   ]
  },
  {
   "cell_type": "code",
   "execution_count": 36,
   "metadata": {},
   "outputs": [],
   "source": [
    "with open('data/index/wid2title.tar', 'rb') as file:\n",
    "    wid2title = pickle.load(file)\n",
    "\n",
    "with open('data/index/title2wid.tar', 'rb') as file:\n",
    "    title2wid = pickle.load(file)\n"
   ]
  },
  {
   "cell_type": "code",
   "execution_count": 40,
   "metadata": {},
   "outputs": [
    {
     "name": "stdout",
     "output_type": "stream",
     "text": [
      "Harry Diamond [2209045, 38754454]\n"
     ]
    }
   ],
   "source": [
    "for t, ws in title2wid.items():\n",
    "    if len(ws) > 1:\n",
    "        print(t, ws)"
   ]
  },
  {
   "cell_type": "code",
   "execution_count": 39,
   "metadata": {},
   "outputs": [
    {
     "name": "stdout",
     "output_type": "stream",
     "text": [
      "5486211 5486212\n"
     ]
    }
   ],
   "source": [
    "print(len(title2wid), len(wid2title))"
   ]
  },
  {
   "cell_type": "code",
   "execution_count": 3,
   "metadata": {},
   "outputs": [],
   "source": [
    "from glob import glob\n",
    "import os"
   ]
  },
  {
   "cell_type": "code",
   "execution_count": 11,
   "metadata": {},
   "outputs": [],
   "source": [
    "paths = glob('./data/trec/*')\n",
    "\n",
    "for path in sorted(paths):\n",
    "    *folder_path, file_name = path.split('/')\n",
    "    file_name, ext = file_name.split('.')\n",
    "    l, r = file_name.split('@')\n",
    "    l, r = int(l), int(r)\n",
    "    os.rename(path, f'{\"/\".join(folder_path)}/{l:08d}@{r:08d}.{ext}')\n",
    "\n"
   ]
  },
  {
   "cell_type": "code",
   "execution_count": 19,
   "metadata": {},
   "outputs": [
    {
     "data": {
      "text/plain": [
       "(1, 5486213)"
      ]
     },
     "execution_count": 19,
     "metadata": {},
     "output_type": "execute_result"
    }
   ],
   "source": [
    "index.document_base(), index.maximum_document()"
   ]
  }
 ],
 "metadata": {
  "kernelspec": {
   "display_name": "Python 3",
   "language": "python",
   "name": "python3"
  },
  "language_info": {
   "codemirror_mode": {
    "name": "ipython",
    "version": 3
   },
   "file_extension": ".py",
   "mimetype": "text/x-python",
   "name": "python",
   "nbconvert_exporter": "python",
   "pygments_lexer": "ipython3",
   "version": "3.6.5"
  }
 },
 "nbformat": 4,
 "nbformat_minor": 2
}
