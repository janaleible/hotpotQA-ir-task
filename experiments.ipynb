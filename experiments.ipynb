{
 "cells": [
  {
   "cell_type": "code",
   "execution_count": 1,
   "metadata": {},
   "outputs": [],
   "source": [
    "%load_ext autoreload\n",
    "%autoreload 2"
   ]
  },
  {
   "cell_type": "code",
   "execution_count": 48,
   "metadata": {},
   "outputs": [],
   "source": [
    "from data_processing import inverted_index\n",
    "from retrieval import filtering\n",
    "import sqlite3\n",
    "import pickle"
   ]
  },
  {
   "cell_type": "code",
   "execution_count": 39,
   "metadata": {},
   "outputs": [],
   "source": [
    "index = inverted_index.load()"
   ]
  },
  {
   "cell_type": "code",
   "execution_count": 40,
   "metadata": {},
   "outputs": [],
   "source": [
    "with open('./data/preprocessed/AA.dict.tar', 'rb') as file:\n",
    "    aa = pickle.load(file)"
   ]
  },
  {
   "cell_type": "code",
   "execution_count": 41,
   "metadata": {},
   "outputs": [
    {
     "data": {
      "text/plain": [
       "['Dead Sea',\n",
       " 'Dragon',\n",
       " 'Depeche Mode',\n",
       " 'Differential cryptanalysis',\n",
       " 'Document type definition']"
      ]
     },
     "execution_count": 41,
     "metadata": {},
     "output_type": "execute_result"
    }
   ],
   "source": [
    "list(aa.keys())[0:5]"
   ]
  },
  {
   "cell_type": "code",
   "execution_count": 42,
   "metadata": {},
   "outputs": [
    {
     "data": {
      "text/plain": [
       "{0, 1366, 2079, 4278}"
      ]
     },
     "execution_count": 42,
     "metadata": {},
     "output_type": "execute_result"
    }
   ],
   "source": [
    "index.lookup(\"Dead Sea\")"
   ]
  },
  {
   "cell_type": "code",
   "execution_count": 43,
   "metadata": {},
   "outputs": [
    {
     "data": {
      "text/plain": [
       "[['Geography of Djibouti'],\n",
       " ['Djibouti is a country in the Horn of Africa .',\n",
       "  ' It is bordered by Eritrea  in the north, Ethiopia  in the west and south, and Somalia  in the southeast.',\n",
       "  ' To the east is its coastline on the Red Sea  and the Gulf of Aden .',\n",
       "  ' Rainfall is sparse, and most of the territory has a semi-arid to arid environment.',\n",
       "  ' Lake Assal  is a saline lake which lies 155\\xa0m (509\\xa0ft) below sea level, making it the lowest point on land in Africa  and the third-lowest point on Earth after the Sea of Galilee  and the Dead Sea .',\n",
       "  \" Djibouti 's major settlements include the capital Djibouti City , the port towns of Tadjoura  and Obock , and the southern cities of Ali Sabieh  and Dikhil .\",\n",
       "  ' It is the 151st largest country in the world by land area, covering a total of 23,200\\xa0km, of which 23,180\\xa0km is land and 20\\xa0km is water.']]"
      ]
     },
     "execution_count": 43,
     "metadata": {},
     "output_type": "execute_result"
    }
   ],
   "source": [
    "aa[index.id2title[4278]]"
   ]
  },
  {
   "cell_type": "code",
   "execution_count": 46,
   "metadata": {},
   "outputs": [
    {
     "data": {
      "text/plain": [
       "[(0, 3), (1366, 3), (4278, 3), (2079, 3)]"
      ]
     },
     "execution_count": 46,
     "metadata": {},
     "output_type": "execute_result"
    }
   ],
   "source": [
    "filtering.unigram_bigram(\"Dead Sea\", index, n=3)"
   ]
  },
  {
   "cell_type": "code",
   "execution_count": 49,
   "metadata": {},
   "outputs": [],
   "source": [
    "conn = sqlite3.connect('./data/preprocessed.sqlite')"
   ]
  },
  {
   "cell_type": "code",
   "execution_count": 53,
   "metadata": {},
   "outputs": [],
   "source": [
    "cursor = conn.cursor()\n",
    "cursor.execute(\"SELECT * FROM articles LIMIT 1\")\n",
    "result = cursor.fetchall()"
   ]
  },
  {
   "cell_type": "code",
   "execution_count": 55,
   "metadata": {},
   "outputs": [
    {
     "data": {
      "text/plain": [
       "[['Dead Sea'],\n",
       " ['The Dead Sea (Hebrew : יָם הַמֶּלַח\\u200e \\xa0 lit.',\n",
       "  ' Salt Sea; Arabic : البحر الميت\\u200e \\u200e \\xa0 ) is a salt lake  bordered by Jordan  to the east and Israel  and Palestine  to the west.',\n",
       "  \" Its surface and shores are 430.5 m below sea level , Earth's lowest elevation  on land.\",\n",
       "  ' The Dead Sea is 304 m deep, the deepest hypersaline lake  in the world.',\n",
       "  \" With a salinity  of 342 g/kg, or 34.2%, (in 2011), it is 9.6 times as salty as the ocean  and one of the world's saltiest bodies of water .\",\n",
       "  ' This salinity makes for a harsh environment in which plants and animals cannot flourish, hence its name.',\n",
       "  ' The Dead Sea is 50 km long and 15 km wide at its widest point.',\n",
       "  ' It lies in the Jordan Rift Valley , and its main tributary  is the Jordan River .']]"
      ]
     },
     "execution_count": 55,
     "metadata": {},
     "output_type": "execute_result"
    }
   ],
   "source": [
    "pickle.loads(result[0][1])"
   ]
  },
  {
   "cell_type": "code",
   "execution_count": null,
   "metadata": {},
   "outputs": [],
   "source": []
  }
 ],
 "metadata": {
  "kernelspec": {
   "display_name": "Python 3",
   "language": "python",
   "name": "python3"
  },
  "language_info": {
   "codemirror_mode": {
    "name": "ipython",
    "version": 3
   },
   "file_extension": ".py",
   "mimetype": "text/x-python",
   "name": "python",
   "nbconvert_exporter": "python",
   "pygments_lexer": "ipython3",
   "version": "3.6.5"
  }
 },
 "nbformat": 4,
 "nbformat_minor": 2
}
